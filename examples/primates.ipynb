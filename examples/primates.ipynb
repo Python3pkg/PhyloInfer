{
 "cells": [
  {
   "cell_type": "code",
   "execution_count": 1,
   "metadata": {
    "collapsed": true
   },
   "outputs": [],
   "source": [
    "import sys, os\n",
    "sys.path.insert(0,\"..\")\n",
    "\n",
    "import numpy as np\n",
    "import phyloinfer as pinf"
   ]
  },
  {
   "cell_type": "code",
   "execution_count": 2,
   "metadata": {
    "collapsed": false
   },
   "outputs": [],
   "source": [
    "# load primates data set\n",
    "data, taxon = pinf.data.loadData('../datasets/primates.nex','nexus')"
   ]
  },
  {
   "cell_type": "code",
   "execution_count": 27,
   "metadata": {
    "collapsed": false
   },
   "outputs": [],
   "source": [
    "# initialize the tree\n",
    "ntips = len(taxon)\n",
    "init_tree = pinf.Tree()\n",
    "init_tree.populate(ntips)\n",
    "init_tree.unroot()\n",
    "pinf.tree.init(init_tree, branch='random')\n",
    "init_branch = pinf.branch.get(init_tree)"
   ]
  },
  {
   "cell_type": "code",
   "execution_count": 7,
   "metadata": {
    "collapsed": false
   },
   "outputs": [],
   "source": [
    "# set the stationary frequency for JC model\n",
    "pden = np.array([0.25, 0.25, 0.25, 0.25])"
   ]
  },
  {
   "cell_type": "code",
   "execution_count": 29,
   "metadata": {
    "collapsed": false
   },
   "outputs": [
    {
     "name": "stdout",
     "output_type": "stream",
     "text": [
      "1 iteration: current Loglikelihood = -8011.23519683\n",
      "2 iteration: current Loglikelihood = -7524.3414877\n",
      "3 iteration: current Loglikelihood = -7129.49748891\n",
      "4 iteration: current Loglikelihood = -6879.88504451\n",
      "5 iteration: current Loglikelihood = -6813.2018269\n",
      "6 iteration: current Loglikelihood = -6793.43008812\n",
      "7 iteration: current Loglikelihood = -6793.48910579\n",
      "8 iteration: current Loglikelihood = -6586.77190511\n",
      "9 iteration: current Loglikelihood = -6491.95744491\n",
      "10 iteration: current Loglikelihood = -6487.92299069\n",
      "11 iteration: current Loglikelihood = -6474.62354839\n",
      "12 iteration: current Loglikelihood = -6472.55580509\n",
      "13 iteration: current Loglikelihood = -6447.7379303\n",
      "14 iteration: current Loglikelihood = -6436.48915385\n",
      "15 iteration: current Loglikelihood = -6436.92762705\n",
      "16 iteration: current Loglikelihood = -6435.61247694\n",
      "17 iteration: current Loglikelihood = -6434.51829327\n",
      "18 iteration: current Loglikelihood = -6440.73831428\n",
      "19 iteration: current Loglikelihood = -6439.92289786\n",
      "20 iteration: current Loglikelihood = -6441.19075414\n",
      "20 iterations completed; acceptance rate: 1.0\n",
      "21 iteration: current Loglikelihood = -6437.85257277\n",
      "22 iteration: current Loglikelihood = -6438.50062622\n",
      "23 iteration: current Loglikelihood = -6440.20339414\n",
      "24 iteration: current Loglikelihood = -6435.31359138\n",
      "25 iteration: current Loglikelihood = -6436.82436372\n",
      "26 iteration: current Loglikelihood = -6438.12774645\n",
      "27 iteration: current Loglikelihood = -6438.58126228\n",
      "28 iteration: current Loglikelihood = -6432.87560541\n",
      "29 iteration: current Loglikelihood = -6434.44947052\n",
      "30 iteration: current Loglikelihood = -6434.13936348\n",
      "31 iteration: current Loglikelihood = -6436.76648626\n",
      "32 iteration: current Loglikelihood = -6434.37039099\n",
      "33 iteration: current Loglikelihood = -6433.72939204\n",
      "34 iteration: current Loglikelihood = -6431.40717953\n",
      "35 iteration: current Loglikelihood = -6434.98554602\n",
      "36 iteration: current Loglikelihood = -6435.71599568\n",
      "37 iteration: current Loglikelihood = -6434.60285906\n",
      "38 iteration: current Loglikelihood = -6436.64285388\n",
      "39 iteration: current Loglikelihood = -6437.23891647\n",
      "40 iteration: current Loglikelihood = -6437.23891647\n",
      "40 iterations completed; acceptance rate: 0.95\n",
      "41 iteration: current Loglikelihood = -6435.58644316\n",
      "42 iteration: current Loglikelihood = -6437.69257643\n",
      "43 iteration: current Loglikelihood = -6435.07462074\n",
      "44 iteration: current Loglikelihood = -6435.72167186\n",
      "45 iteration: current Loglikelihood = -6435.72167186\n",
      "46 iteration: current Loglikelihood = -6435.03283326\n",
      "47 iteration: current Loglikelihood = -6432.45401562\n",
      "48 iteration: current Loglikelihood = -6437.40144277\n",
      "49 iteration: current Loglikelihood = -6434.11777975\n",
      "50 iteration: current Loglikelihood = -6431.19978641\n",
      "51 iteration: current Loglikelihood = -6431.19978641\n",
      "52 iteration: current Loglikelihood = -6431.26578373\n",
      "53 iteration: current Loglikelihood = -6431.53194361\n",
      "54 iteration: current Loglikelihood = -6433.5881308\n",
      "55 iteration: current Loglikelihood = -6435.8862042\n",
      "56 iteration: current Loglikelihood = -6435.05578609\n",
      "57 iteration: current Loglikelihood = -6433.66099599\n",
      "58 iteration: current Loglikelihood = -6433.81523717\n",
      "59 iteration: current Loglikelihood = -6431.13786719\n",
      "60 iteration: current Loglikelihood = -6431.13786719\n",
      "60 iterations completed; acceptance rate: 0.85\n",
      "61 iteration: current Loglikelihood = -6431.13786719\n",
      "62 iteration: current Loglikelihood = -6431.13786719\n",
      "63 iteration: current Loglikelihood = -6435.51148454\n",
      "64 iteration: current Loglikelihood = -6435.37304558\n",
      "65 iteration: current Loglikelihood = -6433.12585455\n",
      "66 iteration: current Loglikelihood = -6429.3472035\n",
      "67 iteration: current Loglikelihood = -6429.3472035\n",
      "68 iteration: current Loglikelihood = -6429.3472035\n",
      "69 iteration: current Loglikelihood = -6429.3472035\n",
      "70 iteration: current Loglikelihood = -6429.97916189\n",
      "71 iteration: current Loglikelihood = -6430.88392459\n",
      "72 iteration: current Loglikelihood = -6434.08325897\n",
      "73 iteration: current Loglikelihood = -6437.35178318\n",
      "74 iteration: current Loglikelihood = -6436.11175655\n",
      "75 iteration: current Loglikelihood = -6439.21462285\n",
      "76 iteration: current Loglikelihood = -6432.88983982\n",
      "77 iteration: current Loglikelihood = -6432.56495057\n",
      "78 iteration: current Loglikelihood = -6429.30406974\n",
      "79 iteration: current Loglikelihood = -6431.92219176\n",
      "80 iteration: current Loglikelihood = -6432.65286294\n",
      "80 iterations completed; acceptance rate: 0.75\n",
      "81 iteration: current Loglikelihood = -6434.02318967\n",
      "82 iteration: current Loglikelihood = -6431.79404869\n",
      "83 iteration: current Loglikelihood = -6431.29675559\n",
      "84 iteration: current Loglikelihood = -6430.99086388\n",
      "85 iteration: current Loglikelihood = -6431.27789585\n",
      "86 iteration: current Loglikelihood = -6431.27789585\n",
      "87 iteration: current Loglikelihood = -6434.78015379\n",
      "88 iteration: current Loglikelihood = -6433.3693773\n",
      "89 iteration: current Loglikelihood = -6434.24795525\n",
      "90 iteration: current Loglikelihood = -6434.79763004\n",
      "91 iteration: current Loglikelihood = -6434.18534932\n",
      "92 iteration: current Loglikelihood = -6434.84218061\n",
      "93 iteration: current Loglikelihood = -6433.52297827\n",
      "94 iteration: current Loglikelihood = -6438.88406924\n",
      "95 iteration: current Loglikelihood = -6436.78019669\n",
      "96 iteration: current Loglikelihood = -6440.34014336\n",
      "97 iteration: current Loglikelihood = -6435.05262423\n",
      "98 iteration: current Loglikelihood = -6431.2405234\n",
      "99 iteration: current Loglikelihood = -6437.15603408\n",
      "100 iteration: current Loglikelihood = -6434.07956608\n",
      "100 iterations completed; acceptance rate: 0.95\n",
      "Overall acceptance rate: 0.84\n"
     ]
    }
   ],
   "source": [
    "samp_res = pinf.phmc.hmc(init_tree, init_branch, (pden,1), data, 100, 0.004, 100, \n",
    "                         subModel='JC', surrogate=True, burnin_frac=0.5, delta=0.008,\n",
    "                         adap_stepsz_rate=0.8, printfreq=20)"
   ]
  },
  {
   "cell_type": "code",
   "execution_count": null,
   "metadata": {
    "collapsed": true
   },
   "outputs": [],
   "source": []
  }
 ],
 "metadata": {
  "kernelspec": {
   "display_name": "Python 2",
   "language": "python",
   "name": "python2"
  },
  "language_info": {
   "codemirror_mode": {
    "name": "ipython",
    "version": 2
   },
   "file_extension": ".py",
   "mimetype": "text/x-python",
   "name": "python",
   "nbconvert_exporter": "python",
   "pygments_lexer": "ipython2",
   "version": "2.7.13"
  }
 },
 "nbformat": 4,
 "nbformat_minor": 2
}
